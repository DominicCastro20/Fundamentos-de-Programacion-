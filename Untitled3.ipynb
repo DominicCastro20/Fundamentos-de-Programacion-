{
  "nbformat": 4,
  "nbformat_minor": 0,
  "metadata": {
    "colab": {
      "provenance": [],
      "authorship_tag": "ABX9TyNjGKWZpND4DcbvqbsZhGMn",
      "include_colab_link": true
    },
    "kernelspec": {
      "name": "python3",
      "display_name": "Python 3"
    },
    "language_info": {
      "name": "python"
    }
  },
  "cells": [
    {
      "cell_type": "markdown",
      "metadata": {
        "id": "view-in-github",
        "colab_type": "text"
      },
      "source": [
        "<a href=\"https://colab.research.google.com/github/DominicCastro20/Fundamentos-de-Programacion-/blob/main/Untitled3.ipynb\" target=\"_parent\"><img src=\"https://colab.research.google.com/assets/colab-badge.svg\" alt=\"Open In Colab\"/></a>"
      ]
    },
    {
      "cell_type": "code",
      "execution_count": 9,
      "metadata": {
        "id": "M4aGb9cfDppb"
      },
      "outputs": [],
      "source": []
    },
    {
      "cell_type": "markdown",
      "source": [
        "Programa que realice un algoritmo ns que de acuerdo a los datos de nivel de ingles : A1, A2, B1, B2, C1\n",
        "Calificacion : Mayor 8.0\n",
        "Determine si es admitido o rechazado un aspirante\n",
        "Bjo nivel ingles, Bajo promedio"
      ],
      "metadata": {
        "id": "1IiyenV0GNkg"
      }
    },
    {
      "cell_type": "code",
      "source": [
        "#Variables\n",
        "print(\"Estos son las conversiones del nivle de ingles\")\n",
        "print(\"A1=1\")\n",
        "print(\"A2=2\")\n",
        "print(\"B1=3\")\n",
        "print(\"B2=4\")\n",
        "print(\"C1=5\")\n",
        "N1 = int(input(\"Ingrese su nivel de ingles\"))\n",
        "Prom = float(input(\"Ingrese su promedio de calificaciones\"))\n",
        "#Operaciones\n",
        "if N1>=3 and Prom>=8.0:\n",
        "    print(\"Usted es admitido\")\n",
        "else:\n",
        "    if Prom<8.0:\n",
        "        print(\"RECHAZADO:Su promedio no es suficiente\")"
      ],
      "metadata": {
        "colab": {
          "base_uri": "https://localhost:8080/"
        },
        "id": "aTKKRX2uStWd",
        "outputId": "945650a4-c0f6-4533-c8c6-58690b8fdcb4"
      },
      "execution_count": null,
      "outputs": [
        {
          "output_type": "stream",
          "name": "stdout",
          "text": [
            "Estos son las conversiones del nivle de ingles\n",
            "A1=1\n",
            "A2=2\n",
            "B1=3\n",
            "B2=4\n",
            "C1=5\n"
          ]
        }
      ]
    },
    {
      "cell_type": "code",
      "source": [
        "N1=int(input(\"Ingrese su nivel de ingles 1=A1,2=A2,3=B1,4=B2,5=C1\"))\n",
        "Prom=float(input(\"Ingrese su promedio de calificaciones\"))\n",
        "if N1>=3 and Prom>=8.0:\n",
        "    print(\"Usted es admitido\")\n",
        "else:\n",
        "    if Prom<8.0:\n",
        "\n",
        "        print(\"RECHAZADO:Su promedio no es suficiente\")\n",
        "elif\n",
        "    if N1<3:\n",
        "        print(\"RECHAZADO:No es suficiente nivel de ingles\")\n",
        "elif\n"
      ],
      "metadata": {
        "id": "oHg64p-7Gt0Z"
      },
      "execution_count": null,
      "outputs": []
    },
    {
      "cell_type": "markdown",
      "source": [],
      "metadata": {
        "id": "J8zrwI8UMGU0"
      }
    }
  ]
}