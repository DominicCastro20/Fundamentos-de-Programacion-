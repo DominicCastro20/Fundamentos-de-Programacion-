{
  "nbformat": 4,
  "nbformat_minor": 0,
  "metadata": {
    "colab": {
      "provenance": [],
      "authorship_tag": "ABX9TyMCfw3I9+NrAJWwecc13FCV",
      "include_colab_link": true
    },
    "kernelspec": {
      "name": "python3",
      "display_name": "Python 3"
    },
    "language_info": {
      "name": "python"
    }
  },
  "cells": [
    {
      "cell_type": "markdown",
      "metadata": {
        "id": "view-in-github",
        "colab_type": "text"
      },
      "source": [
        "<a href=\"https://colab.research.google.com/github/DominicCastro20/Fundamentos-de-Programacion-/blob/main/Untitled7.ipynb\" target=\"_parent\"><img src=\"https://colab.research.google.com/assets/colab-badge.svg\" alt=\"Open In Colab\"/></a>"
      ]
    },
    {
      "cell_type": "code",
      "execution_count": 6,
      "metadata": {
        "colab": {
          "base_uri": "https://localhost:8080/"
        },
        "id": "TxgSp7HoDO7E",
        "outputId": "14f1efcb-6774-4e71-cc3e-5c3c51f94dc2"
      },
      "outputs": [
        {
          "output_type": "stream",
          "name": "stdout",
          "text": [
            "2\n",
            "4\n",
            "6\n",
            "8\n",
            "4\n",
            "la suma de pares=>4\n"
          ]
        }
      ],
      "source": [
        "acum=int(\"0\")\n",
        "for i in range (2,10,2):\n",
        "  print(i)\n",
        "  acum=acum + 1\n",
        "print(acum)\n",
        "print(f\"la suma de pares=>{acum}\")"
      ]
    },
    {
      "cell_type": "code",
      "source": [
        "acum=int(\"0\")\n",
        "for i in range (2,10,2):\n",
        "  print(i)\n",
        "  acum=acum * i\n",
        "  print(acum)\n",
        "print(f\"la suma de pares=>{acum}\")\n"
      ],
      "metadata": {
        "colab": {
          "base_uri": "https://localhost:8080/"
        },
        "id": "c5bQraloFs5B",
        "outputId": "9ca6059b-f908-4cc2-f718-50b763adb276"
      },
      "execution_count": 7,
      "outputs": [
        {
          "output_type": "stream",
          "name": "stdout",
          "text": [
            "2\n",
            "0\n",
            "4\n",
            "0\n",
            "6\n",
            "0\n",
            "8\n",
            "0\n",
            "la suma de pares=>0\n"
          ]
        }
      ]
    },
    {
      "cell_type": "code",
      "source": [
        "acum=int(\"0\")\n",
        "count = 0\n",
        "for i in range (2,10,2):\n",
        "  print(i)\n",
        "  acum=acum + i\n",
        "  count = count + 1\n",
        "  print(acum)\n",
        "print(f\"la suma de pares=>{acum}\")\n",
        "prom=acum/10\n",
        "print(f\"el promedio de pares=>{prom}\")"
      ],
      "metadata": {
        "colab": {
          "base_uri": "https://localhost:8080/"
        },
        "id": "PSxdgJNPGlfr",
        "outputId": "ba642c18-30db-4ab9-fdd3-6314f3b53480"
      },
      "execution_count": 8,
      "outputs": [
        {
          "output_type": "stream",
          "name": "stdout",
          "text": [
            "2\n",
            "2\n",
            "4\n",
            "6\n",
            "6\n",
            "12\n",
            "8\n",
            "20\n",
            "la suma de pares=>20\n",
            "el promedio de pares=>5.0\n"
          ]
        }
      ]
    }
  ]
}