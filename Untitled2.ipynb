{
  "nbformat": 4,
  "nbformat_minor": 0,
  "metadata": {
    "colab": {
      "provenance": [],
      "authorship_tag": "ABX9TyNMvtunpbwCmhDANxmc+yn9",
      "include_colab_link": true
    },
    "kernelspec": {
      "name": "python3",
      "display_name": "Python 3"
    },
    "language_info": {
      "name": "python"
    }
  },
  "cells": [
    {
      "cell_type": "markdown",
      "metadata": {
        "id": "view-in-github",
        "colab_type": "text"
      },
      "source": [
        "<a href=\"https://colab.research.google.com/github/DominicCastro20/Fundamentos-de-Programacion-/blob/main/Untitled2.ipynb\" target=\"_parent\"><img src=\"https://colab.research.google.com/assets/colab-badge.svg\" alt=\"Open In Colab\"/></a>"
      ]
    },
    {
      "cell_type": "markdown",
      "source": [
        "ITSLP fUNDAMENTOS DE PROGRAMACION PROGRAMA Que Encuentra Entre 2 Numeros Diferemtes al Mayor"
      ],
      "metadata": {
        "id": "qNLkciUqttU3"
      }
    },
    {
      "cell_type": "code",
      "execution_count": 6,
      "metadata": {
        "id": "5OIp5rlxtscf"
      },
      "outputs": [],
      "source": []
    },
    {
      "cell_type": "code",
      "metadata": {
        "id": "6c5e56c5"
      },
      "source": [
        "# Programa que encuentra el mayor de dos numeros y maneja el caso de igualdad\n",
        "\n",
        "# Obtener entrada del usuario\n",
        "num1 = float(input(\"Ingresa el primer número: \"))\n",
        "num2 = float(input(\"Ingresa el segundo número: \"))\n",
        "\n",
        "# Verificar cual número es mayor o si son iguales\n",
        "if num1 > num2:\n",
        "  print(f\"{num1} es el número mayor\")\n",
        "elif num2 > num1:\n",
        "  print(f\"{num2} es el número mayor\")\n",
        "else:\n",
        "  print(\"Los números son iguales\")"
      ],
      "execution_count": null,
      "outputs": []
    }
  ]
}